{
 "cells": [
  {
   "attachments": {},
   "cell_type": "markdown",
   "metadata": {},
   "source": [
    "# 坐标变换"
   ]
  },
  {
   "cell_type": "code",
   "execution_count": 60,
   "metadata": {},
   "outputs": [],
   "source": [
    "import cv2 as cv\n",
    "import numpy as np\n"
   ]
  },
  {
   "attachments": {},
   "cell_type": "markdown",
   "metadata": {},
   "source": [
    "## 仿射变换"
   ]
  },
  {
   "cell_type": "code",
   "execution_count": 61,
   "metadata": {},
   "outputs": [
    {
     "name": "stdout",
     "output_type": "stream",
     "text": [
      "[[2. 0. 0.]\n",
      " [0. 2. 0.]]\n",
      "[[2. 0. 0.]\n",
      " [0. 2. 0.]\n",
      " [0. 0. 1.]]\n",
      "[6. 8. 1.]\n",
      "[[ 6.  8.]\n",
      " [ 8. 10.]\n",
      " [ 1.  1.]]\n"
     ]
    }
   ],
   "source": [
    "# 缩放测试\n",
    "op = np.float32([[0, 0], [0, 3], [3, 0]])  # 原点：A, B, C\n",
    "pt = np.float32([[0, 0], [0, 6], [6, 0]])  # 映射点：A, B, C\n",
    "M = cv.getAffineTransform(op, pt)  # 变换矩阵\n",
    "print(M)\n",
    "\n",
    "# 齐次变换\n",
    "M = np.insert(M, 2, values=[0, 0, 1], axis=0)  # 升维\n",
    "print(M)\n",
    "\n",
    "p = [3, 4, 1]  # 测试单点\n",
    "p = np.dot(M, p)  # 点乘，内积\n",
    "print(p)\n",
    "\n",
    "p = [[3, 4], [4, 5], [1, 1]]  # 测试点集\n",
    "p = np.dot(M, p)\n",
    "print(p)\n"
   ]
  },
  {
   "attachments": {},
   "cell_type": "markdown",
   "metadata": {},
   "source": [
    "![affine](affine.png)"
   ]
  },
  {
   "cell_type": "code",
   "execution_count": 62,
   "metadata": {},
   "outputs": [
    {
     "name": "stdout",
     "output_type": "stream",
     "text": [
      "[[ 0. -1. 38.]\n",
      " [ 1.  0. 30.]]\n",
      "[[0.]]\n",
      "[[ 0. -1. 38.]\n",
      " [ 1.  0. 30.]\n",
      " [ 0.  0.  1.]]\n",
      "[20.5 42.   1. ]\n"
     ]
    }
   ],
   "source": [
    "# 旋转、平移示例，affine.png\n",
    "op = np.float32([[10, 20], [10, 10], [18, 20]])  # 原点：A, B, C\n",
    "pt = np.float32([[18, 40], [28, 40], [18, 48]])  # 映射点：A, B, C\n",
    "M = cv.getAffineTransform(op, pt)  # 变换矩阵\n",
    "print(M)\n",
    "\n",
    "\n",
    "p = np.array([[12, 17.5]], np.float32)  # 测试单点\n",
    "p = cv.warpAffine(p, M, (1, 1))\n",
    "print(p)  # 20.5, 42\n",
    "\n",
    "\n",
    "# 齐次变换\n",
    "M = np.insert(M, 2, values=[0, 0, 1], axis=0)  # 升维\n",
    "print(M)\n",
    "\n",
    "p = [12, 17.5, 1]  # 测试单点\n",
    "p = np.dot(M, p)  # 点乘，内积\n",
    "print(p)  # 20.5, 42\n"
   ]
  },
  {
   "attachments": {},
   "cell_type": "markdown",
   "metadata": {},
   "source": [
    "## 透视变换"
   ]
  },
  {
   "attachments": {},
   "cell_type": "markdown",
   "metadata": {},
   "source": [
    "https://zhuanlan.zhihu.com/p/599615858"
   ]
  },
  {
   "cell_type": "code",
   "execution_count": 64,
   "metadata": {},
   "outputs": [
    {
     "name": "stdout",
     "output_type": "stream",
     "text": [
      "[[ 1.87500000e-01 -1.17083333e+00  3.84166667e+01]\n",
      " [ 1.43750000e+00 -3.33333333e-01  2.97916667e+01]\n",
      " [ 1.04166667e-02 -8.33333333e-03  1.00000000e+00]]\n",
      "[20.606382 42.085106]\n",
      "[20.17708333 41.20833333  0.97916667]\n",
      "(20.606382978723403, 42.08510638297873)\n"
     ]
    }
   ],
   "source": [
    "# 旋转、平移示例，affine.png\n",
    "op = np.float32([[10, 20], [10, 10], [18, 20], [14, 15]])  # 原点：A, B, C, D\n",
    "pt = np.float32([[18, 40], [28, 40], [18, 48], [23, 44]])  # 映射点：A, B, C, D\n",
    "M = cv.getPerspectiveTransform(op, pt)  # 变换矩阵，同时会引入误差，亦或输入的映射点错误?\n",
    "print(M) \n",
    "\n",
    "\n",
    "p = [12, 17.5]  # 测试单点\n",
    "p = cv.perspectiveTransform(np.array([[p]], dtype=\"float32\"), M)\n",
    "print(p.flatten())  # 20.5, 42，有误差\n",
    "\n",
    "\n",
    "p = [12, 17.5, 1]  # 测试单点\n",
    "p = np.dot(M, p)  # 点乘，内积\n",
    "print(p)  # 20.5, 42，有误差\n",
    "\n",
    "\n",
    "# 计算法\n",
    "def cvt_pos(u, v, mat):\n",
    "    x = (mat[0][0] * u + mat[0][1] * v + mat[0][2]) / (\n",
    "        mat[2][0] * u + mat[2][1] * v + mat[2][2]\n",
    "    )\n",
    "    y = (mat[1][0] * u + mat[1][1] * v + mat[1][2]) / (\n",
    "        mat[2][0] * u + mat[2][1] * v + mat[2][2]\n",
    "    )\n",
    "\n",
    "    return (x, y)\n",
    "\n",
    "\n",
    "p = [12, 17.5, 1]  # 测试单点\n",
    "p = cvt_pos(p[0], p[1], M) # 如果使用仿射变换的矩阵，同样没有误差\n",
    "print(p) \n"
   ]
  }
 ],
 "metadata": {
  "kernelspec": {
   "display_name": "venv_cv",
   "language": "python",
   "name": "python3"
  },
  "language_info": {
   "codemirror_mode": {
    "name": "ipython",
    "version": 3
   },
   "file_extension": ".py",
   "mimetype": "text/x-python",
   "name": "python",
   "nbconvert_exporter": "python",
   "pygments_lexer": "ipython3",
   "version": "3.10.11"
  },
  "orig_nbformat": 4,
  "vscode": {
   "interpreter": {
    "hash": "4d4f12ee283bc1b84f0ff74f79ffae4acc764f291f340e707975e89bf87b9afc"
   }
  }
 },
 "nbformat": 4,
 "nbformat_minor": 2
}
