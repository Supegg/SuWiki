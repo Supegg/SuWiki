{
 "cells": [
  {
   "cell_type": "markdown",
   "metadata": {},
   "source": [
    "# ffmpeg常用用法"
   ]
  },
  {
   "cell_type": "markdown",
   "metadata": {},
   "source": [
    "## 下载安装"
   ]
  },
  {
   "cell_type": "markdown",
   "metadata": {},
   "source": [
    "[下载](https://www.ffmpeg.org/download.html)可执行文件包。可直接执行，自主决定是否加入系统环境变量"
   ]
  },
  {
   "cell_type": "markdown",
   "metadata": {},
   "source": [
    "## 查看文件信息"
   ]
  },
  {
   "cell_type": "markdown",
   "metadata": {},
   "source": [
    "```\n",
    "ffmpeg -i vedio.mp4\n",
    "ffprobe vedio.mp4\n",
    "```"
   ]
  },
  {
   "cell_type": "markdown",
   "metadata": {},
   "source": [
    "## Map"
   ]
  },
  {
   "cell_type": "markdown",
   "metadata": {},
   "source": [
    "The -map option is used to choose which streams from the input(s) should be included in the output(s). The -map option can also be used to exclude specific streams with negative mapping."
   ]
  },
  {
   "cell_type": "markdown",
   "metadata": {},
   "source": [
    "### Default behavior"
   ]
  },
  {
   "cell_type": "markdown",
   "metadata": {},
   "source": [
    "If you do not use the -map option then the default stream selection behavior will automatically choose streams.\n",
    "* Default stream selection will not automatically choose all of the streams.\n",
    "* Only one stream per type will be selected. For example, if the input has 3 video streams it will only choose 1.\n",
    "* The default stream selection will choose streams based upon specific criteria.\n",
    "\n",
    "Using the **-map** option disables the default stream selection behavior and allows you to manually choose streams."
   ]
  },
  {
   "cell_type": "markdown",
   "metadata": {},
   "source": [
    "### Syntax"
   ]
  },
  {
   "cell_type": "markdown",
   "metadata": {},
   "source": [
    "The syntax is: **-map input_file_index:stream_type_specifier:stream_index**"
   ]
  },
  {
   "cell_type": "markdown",
   "metadata": {},
   "source": [
    "* input_file_index refers to an input and by default will include all of its streams.\n",
    "* stream_type_specifier (optional) is a stream specifier which will limit the selection to a specific stream type. Stream specifiers * include video, audio, subtitles, data, attachments. Most of the examples below use stream specifiers.\n",
    "* stream_index (optional) will select a specific stream. If stream_type_specifier is used then the stream_index only refers to the selected stream type and ignores all other stream types.\n",
    "\n",
    "**Note:** Index numbers start from 0. So the first input or stream is #0, second input or stream is #1, third input or stream is #2, etc."
   ]
  },
  {
   "cell_type": "markdown",
   "metadata": {},
   "source": [
    "### Order"
   ]
  },
  {
   "cell_type": "markdown",
   "metadata": {},
   "source": [
    "The order of -map options is important:\n",
    "\n",
    "* -map order determines the stream order in the output(s).\n",
    "* Mapping is applied in order. This is useful when using negative mapping."
   ]
  },
  {
   "cell_type": "markdown",
   "metadata": {},
   "source": [
    "### Simple examples"
   ]
  },
  {
   "cell_type": "markdown",
   "metadata": {},
   "source": [
    "To better understand the syntax here are some examples and descriptions:\n",
    "\n",
    "* -map 0 From input index #0 (the 1st input) select all streams.\n",
    "* -map 1:a From input index #1 (the 2nd input) select all audio streams.\n",
    "* -map 3:s:4 From input index #3 (the 4th input) select subtitle stream index #4 (the fifth subtitle stream).\n",
    "* -map 0 -map -0:s Will select all streams from input index #0 (the 1st input) except subtitles. The - indicates negative mapping."
   ]
  },
  {
   "cell_type": "markdown",
   "metadata": {},
   "source": [
    "![map](ffmpeg-map.png)"
   ]
  },
  {
   "cell_type": "markdown",
   "metadata": {},
   "source": [
    "## 音视频流操作"
   ]
  },
  {
   "cell_type": "markdown",
   "metadata": {},
   "source": [
    "```\n",
    "# 分离音视频\n",
    "ffmpeg -i input.mp4 -c copy -map 0:v:0 vedio_only.mp4\n",
    "ffmpeg -i input.mp4 -c copy -map 0:a:0 audio_only.aac\n",
    "\n",
    "# 合并音视频\n",
    "ffmpeg -i input.mp4 -i audio.m4a -c copy output.mp4\n",
    "ffmpeg -i input.mp4 -i audio.m4a -map 0:v:0 -map 1:a:0 -c copy output.mp4\n",
    "ffmpeg -i input.mp4 -i mandarin.m4a -c copy -map 0:v:0 -map 0:a:0 -map 1:a:0 output.mp4\n",
    "\n",
    "# 重排音视频\n",
    "# what if the input file has audio as stream #0 and video as stream #1\n",
    "ffmpeg -i input.mp4 -map 0:v -map 0:a -c copy output.mp4\n",
    "```"
   ]
  },
  {
   "cell_type": "markdown",
   "metadata": {},
   "source": [
    "## 压制字幕"
   ]
  },
  {
   "cell_type": "markdown",
   "metadata": {},
   "source": [
    "```\n",
    "ffmpeg -i subtitle.srt subtitle.ass\n",
    "ffmpeg -i subtitle.ass subtitle.srt\n",
    "ffmpeg -i input.mp4 -i subtitles.srt -c:s mov_text -c:v copy -c:a copy output.mp4\n",
    "ffmpeg -i input.mp4 -i mandarin.m4a -i english.m4a -i subtitles.srt -c copy -map 0:v:0 -map 1:a:0 -map 2:a:0 -map -c:s mov_text output.mp4\n",
    "```"
   ]
  },
  {
   "cell_type": "markdown",
   "metadata": {},
   "source": [
    "## 参考"
   ]
  },
  {
   "cell_type": "markdown",
   "metadata": {},
   "source": [
    "[使用FFmpeg将字幕文件集成到视频文件](https://www.yaosansi.com/post/ffmpeg-burn-subtitles-into-video/)\n",
    "\n",
    "[wiki/Map](http://trac.ffmpeg.org/wiki/Map)\n"
   ]
  }
 ],
 "metadata": {
  "kernelspec": {
   "display_name": "Python 3",
   "language": "python",
   "name": "python3"
  },
  "language_info": {
   "codemirror_mode": {
    "name": "ipython",
    "version": 3
   },
   "file_extension": ".py",
   "mimetype": "text/x-python",
   "name": "python",
   "nbconvert_exporter": "python",
   "pygments_lexer": "ipython3",
   "version": "3.7.3"
  }
 },
 "nbformat": 4,
 "nbformat_minor": 2
}
