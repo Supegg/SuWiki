{
 "cells": [
  {
   "cell_type": "markdown",
   "metadata": {},
   "source": [
    "## 一键安装脚本\n",
    "    wget -N --no-check-certificate https://oss.mzyyun.com/Bash/ssr.sh && chmod +x ssr.sh && bash ssr.sh\n",
    "    \n",
    "    wget -N --no-check-certificate https://raw.githubusercontent.com/ToyoDAdoubi/doubi/master/ssr.sh && chmod +x ssr.sh && bash ssr.sh"
   ]
  },
  {
   "cell_type": "markdown",
   "metadata": {},
   "source": [
    "## [可选]启用google的tcp加速\n",
    "    wget https://github.com/teddysun/across/raw/master/bbr.sh\n",
    "    chmod +x bbr.sh\n",
    "    ./bbr.sh\n",
    "\n",
    "    验证\n",
    "    lsmod | grep bbr"
   ]
  },
  {
   "cell_type": "markdown",
   "metadata": {},
   "source": [
    "## 多用户配置\n",
    "    \"port_password\":{\n",
    "        \"8686\":\"mimamima1\",\n",
    "        \"8787\":\"mimamima2\",\n",
    "        \"8888\":\"mimamima3\"\n",
    "    },"
   ]
  },
  {
   "cell_type": "markdown",
   "metadata": {},
   "source": [
    "## 启动\n",
    "    bash ~/ssr.sh\n",
    "\n",
    "    python /usr/local/shadowsocksr/shadowsocks/server.py -c /etc/shadowsocksr/user-config.json a"
   ]
  },
  {
   "cell_type": "markdown",
   "metadata": {},
   "source": [
    "## ref:\n",
    "    https://www.mzyyun.com/study/centos-ssr.html\n",
    "    https://boke.wsfnk.com/archives/601.html\n",
    "    "
   ]
  }
 ],
 "metadata": {
  "kernelspec": {
   "display_name": "Python 3",
   "language": "python",
   "name": "python3"
  },
  "language_info": {
   "codemirror_mode": {
    "name": "ipython",
    "version": 3
   },
   "file_extension": ".py",
   "mimetype": "text/x-python",
   "name": "python",
   "nbconvert_exporter": "python",
   "pygments_lexer": "ipython3",
   "version": "3.7.1"
  }
 },
 "nbformat": 4,
 "nbformat_minor": 2
}
