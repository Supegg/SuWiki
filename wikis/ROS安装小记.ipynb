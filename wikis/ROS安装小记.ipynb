{
 "cells": [
  {
   "cell_type": "markdown",
   "metadata": {},
   "source": [
    "# ROS安装小记"
   ]
  },
  {
   "cell_type": "markdown",
   "metadata": {},
   "source": [
    "**环境**\n",
    "* Ubuntu 18.04\n",
    "* ROS Melodic"
   ]
  },
  {
   "cell_type": "markdown",
   "metadata": {},
   "source": [
    "### 设置sources.list"
   ]
  },
  {
   "cell_type": "markdown",
   "metadata": {},
   "source": [
    "设置源packages.ros.org\n",
    "\n",
    "\n",
    "```sh\n",
    "sudo sh -c 'echo \"deb http://packages.ros.org/ros/ubuntu $(lsb_release -sc) main\" > /etc/apt/sources.list.d/ros-latest.list'\n",
    "```\n",
    "\n",
    "推荐使用国内清华的镜像：\n",
    "\n",
    "```sh\n",
    "sudo sh -c '. /etc/lsb-release && echo \"deb http://mirrors.ustc.edu.cn/ros/ubuntu/ $DISTRIB_CODENAME main\" > /etc/apt/sources.list.d/ros-latest.list'\n",
    "```"
   ]
  },
  {
   "cell_type": "markdown",
   "metadata": {},
   "source": [
    "### 设置密钥"
   ]
  },
  {
   "cell_type": "markdown",
   "metadata": {},
   "source": [
    "**密钥做源文件安全检查**\n",
    "\n",
    "\n",
    "```sh\n",
    "sudo apt-key adv --keyserver hkp://ha.pool.sks-keyservers.net:80 --recv-key 421C365BD9FF1F717815A3895523BAEEB01FA116\n",
    "```        "
   ]
  },
  {
   "cell_type": "markdown",
   "metadata": {},
   "source": [
    "### 更新软件包目录索引"
   ]
  },
  {
   "cell_type": "markdown",
   "metadata": {},
   "source": [
    "```sh\n",
    "sudo apt-get update\n",
    "```"
   ]
  },
  {
   "cell_type": "markdown",
   "metadata": {},
   "source": [
    "### 安装ROS"
   ]
  },
  {
   "cell_type": "markdown",
   "metadata": {},
   "source": [
    "#### 桌面完整安装:(推荐）：ROS，rqt，rviz，机器人通用库，2D / 3D模拟器，导航和2D / 3D感知\n",
    "\n",
    "```sh\n",
    "sudo apt-get install ros-melodic-desktop-full\n",
    "```"
   ]
  },
  {
   "cell_type": "markdown",
   "metadata": {},
   "source": [
    "#### 桌面安装： ROS，rqt，rviz和机器人通用库\n",
    "\n",
    "```sh\n",
    "sudo apt-get install ros-melodic-desktop\n",
    "```"
   ]
  },
  {
   "cell_type": "markdown",
   "metadata": {},
   "source": [
    "#### ROS-Base：（Bare Bones） ROS包，构建和通信库，没有GUI工具\n",
    "\n",
    "```sh\n",
    "sudo apt-get install ros-melodic-ros-base\n",
    "```"
   ]
  },
  {
   "cell_type": "markdown",
   "metadata": {},
   "source": [
    "### 安装第三方包\n",
    "\n",
    "```sh\n",
    "apt-cache search ros-melodic\n",
    "\n",
    "sudo apt-get install ros-melodic-PACKAGE\n",
    "# install slam-gmapping\n",
    "sudo apt-get install ros-melodic-slam-gmapping\n",
    "```\n"
   ]
  },
  {
   "cell_type": "markdown",
   "metadata": {},
   "source": [
    "### 初始化rosdep\n",
    "\n",
    "```sh\n",
    "sudo rosdep init\n",
    "rosdep update\n",
    "```"
   ]
  },
  {
   "cell_type": "markdown",
   "metadata": {},
   "source": [
    "### 设置环境变量\n",
    "\n",
    "```sh\n",
    "# 临时设置\n",
    "# source /opt/ros/melodic/setup.bash\n",
    "\n",
    "echo \"source /opt/ros/melodic/setup.bash\" >> ~/.bashrc\n",
    "source ~/.bashrc\n",
    "```"
   ]
  },
  {
   "cell_type": "markdown",
   "metadata": {},
   "source": [
    "### 安装工具包\n",
    "\n",
    "```sh\n",
    "sudo apt-get install python-rosinstall python-rosinstall-generator python-wstool build-essential\n",
    "```"
   ]
  },
  {
   "cell_type": "markdown",
   "metadata": {},
   "source": [
    "### 参考\n",
    "\n",
    "[在Ubuntu 18.04 LTS安装ROS Melodic版机器人操作系统](https://blog.csdn.net/ZhangRelay/article/details/80241758)"
   ]
  }
 ],
 "metadata": {
  "kernelspec": {
   "display_name": "Python 3",
   "language": "python",
   "name": "python3"
  },
  "language_info": {
   "codemirror_mode": {
    "name": "ipython",
    "version": 3
   },
   "file_extension": ".py",
   "mimetype": "text/x-python",
   "name": "python",
   "nbconvert_exporter": "python",
   "pygments_lexer": "ipython3",
   "version": "3.7.1"
  }
 },
 "nbformat": 4,
 "nbformat_minor": 2
}
