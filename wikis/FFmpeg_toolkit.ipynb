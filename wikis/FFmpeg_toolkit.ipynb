{
 "cells": [
  {
   "cell_type": "markdown",
   "metadata": {},
   "source": [
    "# ffmpeg常用用法"
   ]
  },
  {
   "cell_type": "markdown",
   "metadata": {},
   "source": [
    "## 下载安装"
   ]
  },
  {
   "cell_type": "markdown",
   "metadata": {},
   "source": [
    "[下载](https://www.ffmpeg.org/download.html)可执行文件包。可直接执行，自主决定是否加入系统环境变量"
   ]
  },
  {
   "cell_type": "markdown",
   "metadata": {},
   "source": [
    "* 选装CUDA驱动\n",
    "\n",
    "```\n",
    "ffmpeg -hwaccels # 检查ffmpeg是否支持gpu加速\n",
    "\n",
    "ffmpeg -hwaccel cuvid [-hwaccel_device 0] paras # 用法\n",
    "# 示例\n",
    "ffmpeg -hwaccel cuvid -hwaccel_device 0 -c:v h264_cuvid -i <input> -c:v h264_nvenc -b:v 2048k -vf scale_npp=1280:-1 -y <output>\n",
    "```"
   ]
  },
  {
   "cell_type": "markdown",
   "metadata": {},
   "source": [
    "## 常用命令"
   ]
  },
  {
   "cell_type": "markdown",
   "metadata": {},
   "source": [
    "### 查看视频文件信息"
   ]
  },
  {
   "cell_type": "markdown",
   "metadata": {},
   "source": [
    "```\n",
    "ffmpeg -i vedio.mp4\n",
    "ffprobe vedio.mp4\n",
    "\n",
    "```"
   ]
  },
  {
   "cell_type": "markdown",
   "metadata": {},
   "source": [
    "### 视频转码为h264编码的视频-CPU"
   ]
  },
  {
   "cell_type": "markdown",
   "metadata": {},
   "source": [
    "如不指定，自动识别视频的编解码器"
   ]
  },
  {
   "cell_type": "markdown",
   "metadata": {},
   "source": [
    "```\n",
    "ffmpeg -i <input> [-c:v libx264] -b:v 2048k -vf scale=1280:-1 -y <output>\n",
    "    -c:v：指定编码器，编码器列表可以使用ffmpeg -codecs查看\n",
    "    -vf scale：指定输出视频的宽高，高-1代表按照比例自动适应\n",
    "    -b:v：指定输出视频的码率，即输出视频每秒的bit数\n",
    "    libx264支持的其他参数请使用ffmpeg -h encoder=libx264命令查询，如转码为其他编码，也可使用类似命令查询可用参数\n",
    "```"
   ]
  },
  {
   "cell_type": "markdown",
   "metadata": {},
   "source": [
    "### 视频转码为h264编码的视频-GPU"
   ]
  },
  {
   "cell_type": "markdown",
   "metadata": {},
   "source": [
    "必须指定编解码器，用ffprobe识别视频的编码格式，*指定对应的GPU解码器*"
   ]
  },
  {
   "cell_type": "markdown",
   "metadata": {},
   "source": [
    "```\n",
    "ffmpeg -hwaccel cuvid -c:v h264_cuvid -i <input> -c:v h264_nvenc -b:v 2048k -vf scale_npp=1280:-1 -y <output>\n",
    "    -hwaccel cuvid：指定使用cuvid硬件加速\n",
    "    -c:v h264_cuvid：使用h264_cuvid进行视频解码\n",
    "    -c:v h264_nvenc：使用h264_nvenc进行视频编码\n",
    "    -b:v：指定输出视频的码率，即输出视频每秒的bit数\n",
    "    -vf scale_npp=1280:-1：指定输出视频的宽高，注意，这里和软解码时使用的-vf scale=x:x不一样\n",
    "```"
   ]
  },
  {
   "cell_type": "markdown",
   "metadata": {},
   "source": [
    "## Map"
   ]
  },
  {
   "cell_type": "markdown",
   "metadata": {},
   "source": [
    "The -map option is used to choose which streams from the input(s) should be included in the output(s). The -map option can also be used to exclude specific streams with negative mapping."
   ]
  },
  {
   "cell_type": "markdown",
   "metadata": {},
   "source": [
    "### Default behavior"
   ]
  },
  {
   "cell_type": "markdown",
   "metadata": {},
   "source": [
    "If you do not use the -map option then the default stream selection behavior will automatically choose streams.\n",
    "* Default stream selection will not automatically choose all of the streams.\n",
    "* Only one stream per type will be selected. For example, if the input has 3 video streams it will only choose 1.\n",
    "* The default stream selection will choose streams based upon specific criteria.\n",
    "\n",
    "Using the **-map** option disables the default stream selection behavior and allows you to manually choose streams."
   ]
  },
  {
   "cell_type": "markdown",
   "metadata": {},
   "source": [
    "### Syntax"
   ]
  },
  {
   "cell_type": "markdown",
   "metadata": {},
   "source": [
    "The syntax is: **-map input_file_index:stream_type_specifier:stream_index**"
   ]
  },
  {
   "cell_type": "markdown",
   "metadata": {},
   "source": [
    "* input_file_index refers to an input and by default will include all of its streams.\n",
    "* stream_type_specifier (optional) is a stream specifier which will limit the selection to a specific stream type. Stream specifiers * include video, audio, subtitles, data, attachments. Most of the examples below use stream specifiers.\n",
    "* stream_index (optional) will select a specific stream. If stream_type_specifier is used then the stream_index only refers to the selected stream type and ignores all other stream types.\n",
    "\n",
    "**Note:** Index numbers start from 0. So the first input or stream is #0, second input or stream is #1, third input or stream is #2, etc."
   ]
  },
  {
   "cell_type": "markdown",
   "metadata": {},
   "source": [
    "### Order"
   ]
  },
  {
   "cell_type": "markdown",
   "metadata": {},
   "source": [
    "The order of -map options is important:\n",
    "\n",
    "* -map order determines the stream order in the output(s).\n",
    "* Mapping is applied in order. This is useful when using negative mapping."
   ]
  },
  {
   "cell_type": "markdown",
   "metadata": {},
   "source": [
    "### Simple examples"
   ]
  },
  {
   "cell_type": "markdown",
   "metadata": {},
   "source": [
    "To better understand the syntax here are some examples and descriptions:\n",
    "\n",
    "* -map 0 From input index #0 (the 1st input) select all streams.\n",
    "* -map 1:a From input index #1 (the 2nd input) select all audio streams.\n",
    "* -map 3:s:4 From input index #3 (the 4th input) select subtitle stream index #4 (the fifth subtitle stream).\n",
    "* -map 0 -map -0:s Will select all streams from input index #0 (the 1st input) except subtitles. The - indicates negative mapping."
   ]
  },
  {
   "cell_type": "markdown",
   "metadata": {},
   "source": [
    "![map](ffmpeg-map.png)"
   ]
  },
  {
   "cell_type": "markdown",
   "metadata": {},
   "source": [
    "## 音视频流操作"
   ]
  },
  {
   "cell_type": "markdown",
   "metadata": {},
   "source": [
    "```\n",
    "# 分离音视频\n",
    "ffmpeg -i input.mp4 -c copy -map 0:v:0 vedio_only.mp4\n",
    "ffmpeg -i input.mp4 -c copy -map 0:a:0 audio_only.aac\n",
    "\n",
    "# 合并音视频\n",
    "ffmpeg -i input.mp4 -i audio.m4a -c copy output.mp4\n",
    "ffmpeg -i input.mp4 -i audio.m4a -map 0:v:0 -map 1:a:0 -c copy output.mp4\n",
    "ffmpeg -i input.mp4 -i mandarin.m4a -c copy -map 0:v:0 -map 0:a:0 -map 1:a:0 output.mp4\n",
    "\n",
    "# 重排音视频\n",
    "# what if the input file has audio as stream #0 and video as stream #1\n",
    "ffmpeg -i input.mp4 -map 0:v -map 0:a -c copy output.mp4\n",
    "```"
   ]
  },
  {
   "cell_type": "markdown",
   "metadata": {},
   "source": [
    "## 压制字幕"
   ]
  },
  {
   "cell_type": "markdown",
   "metadata": {},
   "source": [
    "```bash\n",
    "# 提取字幕\n",
    "ffmpeg -i subtitle.srt subtitle.ass\n",
    "ffmpeg -i subtitle.ass subtitle.srt\n",
    "# 硬字幕嵌入到视频\n",
    "ffmpeg -i input.mp4 -vf subtitles=subtitle.srt output.mp4\n",
    "ffmpeg -i input.mp4 -vf subtitles=input.mp4 output.mp4\n",
    "# 将input.mkv中的第 2 个字幕嵌入\n",
    "ffmpeg -i input.mp4 -vf subtitles=input.mkv:si=1 output.mp4\n",
    "# 设置视频、声音、字幕参数 \n",
    "# -c copy, -c:v copy 复制视频，-c:a aac(指定编码)|copy， -c:s mov_text(保留字幕流)|copy\n",
    "ffmpeg -i input.mp4 -i subtitles.srt -c:s mov_text -c:v copy -c:a copy output.mp4\n",
    "# 多字幕、音轨压制\n",
    "ffmpeg -i input.mp4 -i mandarin.m4a -i english.m4a -i chs.srt -i eng.srt -c copy -map 0:v:0 -map 1:a:0 -map 2:a:0 -map -c:s mov_text -metadata:s:s:0 language=chs -metadata:s:s:1 language=eng output.mp4\n",
    "# 定制一个带字幕的mp4\n",
    "ffmpeg -i input.mkv  -map 0:0 -map 0:2 -c:a aac  -vf subtitles=input.mkv output.mp4\n",
    "```"
   ]
  },
  {
   "cell_type": "markdown",
   "metadata": {},
   "source": [
    "## 播放速率"
   ]
  },
  {
   "cell_type": "markdown",
   "metadata": {},
   "source": [
    "```\n",
    "# 倍速音频\n",
    "ffmpeg -i input.mkv -filter:a \"atempo = 2.0[,atempo=2.0]\" -vn output.mkv\n",
    "    atempo = 2.0，调整音频的采样率为原来的2倍，参数范围0.5~2.0\n",
    "    \n",
    "# 倍速视频\n",
    "ffmpeg -i input.mkv [-r 120] -filter:v \"setpts=0.25*PTS\" output.mkv\n",
    "    # -r 120，表示输出视频fps\n",
    "    # setpts=0.25*PTS，表示帧间隔为输入视频的0.25倍，即4倍速\n",
    "\n",
    "# 同时调整音视频\n",
    "ffmpeg -i input.mkv -filter_complex \"[0:v]setpts=0.5*PTS[v];[0:a]atempo=2.0[a]\" -map \"[v]\" -map \"[a]\" output.mkv\n",
    "```"
   ]
  },
  {
   "cell_type": "markdown",
   "metadata": {},
   "source": [
    "```bash\n",
    "# 指定分辨率\n",
    "ffmpeg -i \"5G+AGV.20210624.mp4\" -s 1280x720 1.mp4\n",
    "# 指定码率\n",
    "ffmpeg -i \"5G+AGV.20210624.mp4\" -b:v 1.5M 1.mp4\n",
    "```"
   ]
  },
  {
   "cell_type": "markdown",
   "metadata": {},
   "source": [
    "## 参考"
   ]
  },
  {
   "cell_type": "markdown",
   "metadata": {},
   "source": [
    "[使用FFmpeg将字幕文件集成到视频文件](https://www.yaosansi.com/post/ffmpeg-burn-subtitles-into-video/)\n",
    "\n",
    "[wiki/Map](http://trac.ffmpeg.org/wiki/Map)\n"
   ]
  }
 ],
 "metadata": {
  "kernelspec": {
   "display_name": "Python 3",
   "language": "python",
   "name": "python3"
  },
  "language_info": {
   "codemirror_mode": {
    "name": "ipython",
    "version": 3
   },
   "file_extension": ".py",
   "mimetype": "text/x-python",
   "name": "python",
   "nbconvert_exporter": "python",
   "pygments_lexer": "ipython3",
   "version": "3.7.3"
  }
 },
 "nbformat": 4,
 "nbformat_minor": 4
}
